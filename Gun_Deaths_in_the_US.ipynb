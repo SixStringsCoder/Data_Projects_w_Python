{
 "cells": [
  {
   "cell_type": "markdown",
   "metadata": {
    "collapsed": false
   },
   "source": [
    "# Gun Deaths in the US\n",
    "\n",
    "#### This data project is based on a dataset from [FiveThirtyEight](http://fivethirtyeight.com/). The dataset gathers gun deaths from 2012 to 2014 with specifics about _intent_, _police involvement_, _sex_, _age_, _race_, and _place_.\n",
    "\n",
    "This project was intiated from a DataQuest course in April 2018.  I used Python 3 (with some built-in modules) to open, read, and organize the data then use the data to calculate statistics with the goal of better understanding gun deaths in the USA.\n",
    "\n",
    "created April 2018 by Steve Hanlon"
   ]
  },
  {
   "cell_type": "code",
   "execution_count": 49,
   "metadata": {
    "collapsed": false
   },
   "outputs": [
    {
     "name": "stdout",
     "output_type": "stream",
     "text": [
      "{'2012': 33563, '2013': 33636, '2014': 33599}\n",
      "100798\n",
      "33599\n"
     ]
    }
   ],
   "source": [
    "import csv\n",
    "import datetime\n",
    "\n",
    "dataset = open('guns.csv')\n",
    "csvreader = csv.reader(dataset)\n",
    "data = list(csvreader)\n",
    "headers = data[:1]\n",
    "data = data[1:]\n",
    "\n",
    "years = [year[1] for year in data]\n",
    "year_counts = {}\n",
    "total_counts = []\n",
    "\n",
    "for year in years:\n",
    "    if year not in year_counts:\n",
    "        year_counts[year] = 1\n",
    "    else:\n",
    "        year_counts[year] += 1\n",
    "\n",
    "for year, count in year_counts.items():\n",
    "    total_counts.append(count)\n",
    "\n",
    "total_deaths = sum(total_counts)\n",
    "year_avg = total_deaths / len(total_counts)\n",
    "\n",
    "print(year_counts)\n",
    "print(total_deaths)\n",
    "print(int(year_avg))\n"
   ]
  },
  {
   "cell_type": "code",
   "execution_count": 20,
   "metadata": {
    "collapsed": false
   },
   "outputs": [
    {
     "name": "stdout",
     "output_type": "stream",
     "text": [
      "{datetime.datetime(2013, 6, 1, 0, 0): 2920, datetime.datetime(2012, 12, 1, 0, 0): 2791, datetime.datetime(2012, 10, 1, 0, 0): 2733, datetime.datetime(2014, 10, 1, 0, 0): 2865, datetime.datetime(2014, 9, 1, 0, 0): 2914, datetime.datetime(2012, 8, 1, 0, 0): 2954, datetime.datetime(2014, 1, 1, 0, 0): 2651, datetime.datetime(2012, 5, 1, 0, 0): 2999, datetime.datetime(2014, 5, 1, 0, 0): 2864, datetime.datetime(2012, 9, 1, 0, 0): 2852, datetime.datetime(2012, 7, 1, 0, 0): 3026, datetime.datetime(2014, 11, 1, 0, 0): 2756, datetime.datetime(2014, 6, 1, 0, 0): 2931, datetime.datetime(2013, 5, 1, 0, 0): 2806, datetime.datetime(2012, 3, 1, 0, 0): 2743, datetime.datetime(2014, 7, 1, 0, 0): 2884, datetime.datetime(2012, 2, 1, 0, 0): 2357, datetime.datetime(2014, 8, 1, 0, 0): 2970, datetime.datetime(2014, 4, 1, 0, 0): 2862, datetime.datetime(2012, 1, 1, 0, 0): 2758, datetime.datetime(2013, 1, 1, 0, 0): 2864, datetime.datetime(2014, 2, 1, 0, 0): 2361, datetime.datetime(2012, 6, 1, 0, 0): 2826, datetime.datetime(2013, 10, 1, 0, 0): 2808, datetime.datetime(2013, 7, 1, 0, 0): 3079, datetime.datetime(2013, 8, 1, 0, 0): 2859, datetime.datetime(2013, 4, 1, 0, 0): 2798, datetime.datetime(2013, 2, 1, 0, 0): 2375, datetime.datetime(2012, 4, 1, 0, 0): 2795, datetime.datetime(2014, 12, 1, 0, 0): 2857, datetime.datetime(2012, 11, 1, 0, 0): 2729, datetime.datetime(2013, 12, 1, 0, 0): 2765, datetime.datetime(2013, 9, 1, 0, 0): 2742, datetime.datetime(2013, 3, 1, 0, 0): 2862, datetime.datetime(2014, 3, 1, 0, 0): 2684, datetime.datetime(2013, 11, 1, 0, 0): 2758}\n"
     ]
    }
   ],
   "source": [
    "dates = [datetime.datetime(year=int(year[1]), month=int(year[2]), day=1) for year in data]\n",
    "date_counts = {}\n",
    "\n",
    "for date in dates:\n",
    "    if date not in date_counts:\n",
    "        date_counts[date] = 1\n",
    "    else:\n",
    "        date_counts[date] += 1\n",
    "        \n",
    "print(date_counts)        "
   ]
  },
  {
   "cell_type": "code",
   "execution_count": 42,
   "metadata": {
    "collapsed": false
   },
   "outputs": [
    {
     "name": "stdout",
     "output_type": "stream",
     "text": [
      "{'M': 86349, 'F': 14449}\n"
     ]
    }
   ],
   "source": [
    "sex_counts = {}\n",
    "sex_count_total = []\n",
    "\n",
    "for row in data:\n",
    "    if row[5] not in sex_counts:\n",
    "        sex_counts[row[5]] = 1\n",
    "    else:\n",
    "        sex_counts[row[5]] += 1\n",
    "            \n",
    "        \n",
    "print(sex_counts)    "
   ]
  },
  {
   "cell_type": "code",
   "execution_count": 43,
   "metadata": {
    "collapsed": false
   },
   "outputs": [
    {
     "name": "stdout",
     "output_type": "stream",
     "text": [
      "{'Black': 23296, 'Asian/Pacific Islander': 1326, 'White': 66237, 'Hispanic': 9022, 'Native American/Native Alaskan': 917}\n"
     ]
    }
   ],
   "source": [
    "race_counts = {}\n",
    "\n",
    "# the death count totals by race\n",
    "for row in data:\n",
    "    if row[7] not in race_counts:\n",
    "        race_counts[row[7]] = 1\n",
    "    else:\n",
    "        race_counts[row[7]] += 1\n",
    "        \n",
    "print(race_counts)        "
   ]
  },
  {
   "cell_type": "markdown",
   "metadata": {},
   "source": [
    "#### Current Assessment\n",
    "\n",
    "While the total gun deaths between 2012 and 2014 is high at over 100,000, there is not much difference between the years with each averaging about 33,600 deaths.\n",
    "\n",
    "The biggest surprise is the difference between male and female deaths during that time with males deaths accounting for roughly 86%.\n",
    "\n",
    "#### Needing further examination\n",
    "\n",
    "Among the races, whites accounted for the higher deaths at about 66% which closely matches the percentage of whites in the US while black deaths account for 23,296 deaths or almost 24%.\n",
    "\n",
    "- What is thst figure in comparison to the demographic percentages in the US?  (e.g. whites account for about 73% of the population.  What is the ration of pop. pecentage to gun deaths per year.)\n",
    "\n",
    "- How many suicides per year?  Which race commits the most/least?  Where do they take place the most/least?  What age group is the most/least?\n",
    "\n",
    "- How many homicides per year? Which race commits the most/least? Where do they take place the most/least?\n",
    "\n",
    "- How many homicides by police per year?  Which race is killed the most/least?\n",
    "\n",
    "\n",
    "\n"
   ]
  },
  {
   "cell_type": "code",
   "execution_count": 23,
   "metadata": {
    "collapsed": false,
    "scrolled": true
   },
   "outputs": [
    {
     "name": "stdout",
     "output_type": "stream",
     "text": [
      "[['cen42010', 'April 1, 2010 Census', 'totsex', 'Both Sexes', 'tothisp', 'Total', '0100000US', '', 'United States', '308745538', '197318956', '44618105', '40250635', '3739506', '15159516', '674625', '6984195']]\n"
     ]
    }
   ],
   "source": [
    "# Read in census.csv, and convert to a list of lists. Assign the result to the census variable.\n",
    "census_data = open('census.csv', 'r')\n",
    "csvreader = csv.reader(census_data)\n",
    "census = list(csvreader)\n",
    "census = census[1:]\n",
    "print(census)\n"
   ]
  },
  {
   "cell_type": "code",
   "execution_count": 28,
   "metadata": {
    "collapsed": false
   },
   "outputs": [
    {
     "name": "stdout",
     "output_type": "stream",
     "text": [
      "{'Native American/Native Alaskan': 0.0002452195557381109, 'Asian/Pacific Islander': 8.374309664161763e-05, 'White': 0.0003356849303419181, 'Hispanic': 0.00020220491210910907, 'Black': 0.000578773477735196}\n",
      "{'Asian/Pacific Islander': 8.37, 'Black': 57.88, 'Native American/Native Alaskan': 24.52, 'White': 33.57, 'Hispanic': 20.22}\n"
     ]
    }
   ],
   "source": [
    "mapping = {}\n",
    "race_per_hundredk = {}\n",
    "\n",
    "# add race_counts keys and values to mapping dict\n",
    "for key, value in race_counts.items():\n",
    "    if key not in mapping:\n",
    "        mapping[key] = value        \n",
    "\n",
    "# Change mapping values to 'death rate' based on population divided by gun deaths\n",
    "for row in census:\n",
    "    asian_pac_group = int(row[14]) + int(row[15])\n",
    "    mapping[\"White\"] /= int(row[10])\n",
    "    mapping[\"Hispanic\"] /= int(row[11])\n",
    "    mapping[\"Black\"] /= int(row[12])\n",
    "    mapping[\"Native American/Native Alaskan\"] /= int(row[13])\n",
    "    mapping[\"Asian/Pacific Islander\"] /= asian_pac_group\n",
    "\n",
    "print(mapping)\n",
    "\n",
    "# finalize rate per 100k by multiplying by 100k and add to race_per_hundredk dict    \n",
    "for key, value in mapping.items():\n",
    "    if value not in race_per_hundredk:\n",
    "        race_per_hundredk[key] = round(value * 100000, 2) # trim float to 2 after decimal with round function\n",
    "        \n",
    "print(race_per_hundredk)\n",
    "    "
   ]
  },
  {
   "cell_type": "code",
   "execution_count": 32,
   "metadata": {
    "collapsed": false
   },
   "outputs": [
    {
     "name": "stdout",
     "output_type": "stream",
     "text": [
      "{'Native American/Native Alaskan': 3739506, 'Asian/Pacific Islander': 15834141, 'White': 197318956, 'Hispanic': 44618105, 'Black': 40250635}\n"
     ]
    }
   ],
   "source": [
    "mapping_population = {}\n",
    "\n",
    "# add race_counts keys and values to mapping dict\n",
    "for key, value in race_counts.items():\n",
    "    if key not in mapping_population:\n",
    "        mapping_population[key] = value        \n",
    "\n",
    "# Change mapping values to 'death rate' based on population divided by gun deaths\n",
    "for row in census:\n",
    "    mapping_population[\"White\"] = int(row[10])\n",
    "    mapping_population[\"Hispanic\"] = int(row[11])\n",
    "    mapping_population[\"Black\"] = int(row[12])\n",
    "    mapping_population[\"Native American/Native Alaskan\"] = int(row[13])\n",
    "    mapping_population[\"Asian/Pacific Islander\"] = int(row[14]) + int(row[15])\n",
    "\n",
    "print(mapping_population)       "
   ]
  },
  {
   "cell_type": "code",
   "execution_count": 48,
   "metadata": {
    "collapsed": false
   },
   "outputs": [
    {
     "name": "stdout",
     "output_type": "stream",
     "text": [
      "{'Native American/Native Alaskan': 8.72, 'Asian/Pacific Islander': 3.53, 'White': 4.64, 'Hispanic': 12.63, 'Black': 48.47}\n"
     ]
    }
   ],
   "source": [
    "homicide_race_counts = {}   \n",
    "\n",
    "# a list of the death count by intent (i.e. suicide, homocide)\n",
    "intents = [row[3] for row in data]\n",
    "# print(intents)\n",
    "\n",
    "# a list of the races in race column\n",
    "races = [row[7] for row in data]\n",
    "# print(races)\n",
    "\n",
    "# Homocide death count by race (raw numbers)\n",
    "for i, race in enumerate(races):\n",
    "    if intents[i] == \"Homicide\":\n",
    "        if race not in homicide_race_counts:\n",
    "            homicide_race_counts[race] = 1\n",
    "        else:\n",
    "            homicide_race_counts[race] += 1\n",
    "            \n",
    "# Homocide death count by race (rates per 100000)           \n",
    "for key, value in mapping_population.items():\n",
    "    # if race keys match\n",
    "    if key in homicide_race_counts:\n",
    "        # update homicide_race_counts values to percentage rate per 100k\n",
    "        homicide_race_counts[key] = round((homicide_race_counts[key] / value) * 100000, 2)\n",
    "    \n",
    "\n",
    "print(homicide_race_counts) "
   ]
  },
  {
   "cell_type": "markdown",
   "metadata": {},
   "source": [
    "#### Current Assessment of Homocide Deaths by Race\n",
    "While the homocide count for whites is 9,147 deaths, that is only 4.6% of the total white population in the USA.  Another way to say this is, about 5 whites per 100,000 died by homocide over this 3-year period of data.\n",
    "\n",
    "In contrast, the homocide count for blacks is 19,510 deaths. When based on the total black population in the USA, 19,510 is 48.4%.  That is to say, 48 blacks per 100,000 died by homocide over this 3-year period of data.\n",
    "\n",
    "The homocide count for Hispanics is 5634 deaths. That number is 12.6% of the total Hispanic population in the USA. From a different angle, it is about 13 Hispanic homocide deaths per 100,000 Hispanics over this 3-year period of data.\n",
    "\n",
    "\n",
    "#### Further study\n",
    "\n",
    "- How many suicides per year?  Which race commits the most/least?  Where do they take place the most/least?  What age group is the most/least?\n",
    "\n",
    "- Based on homocides: Which race experiences the most/least? Where do they take place the most/least?\n",
    "\n",
    "- How many homicides by police per year?  Which race is killed the most/least?\n",
    "\n",
    "- Figure out the link, if any, between month and homicide rate.\n",
    "\n",
    "- Explore the homicide rate by gender.\n",
    "- Explore the rates of other intents, like Accidental, by gender and race.\n",
    "- Find out if gun death rates correlate to location and education.\n"
   ]
  },
  {
   "cell_type": "code",
   "execution_count": null,
   "metadata": {
    "collapsed": true
   },
   "outputs": [],
   "source": []
  }
 ],
 "metadata": {
  "kernelspec": {
   "display_name": "Python 3",
   "language": "python",
   "name": "python3"
  },
  "language_info": {
   "codemirror_mode": {
    "name": "ipython",
    "version": 3
   },
   "file_extension": ".py",
   "mimetype": "text/x-python",
   "name": "python",
   "nbconvert_exporter": "python",
   "pygments_lexer": "ipython3",
   "version": "3.4.3"
  }
 },
 "nbformat": 4,
 "nbformat_minor": 0
}
